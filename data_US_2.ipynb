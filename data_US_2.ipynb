{
 "cells": [
  {
   "cell_type": "code",
   "execution_count": 29,
   "metadata": {},
   "outputs": [],
   "source": [
    "# 美国2012总统大选数据分析\n",
    "import numpy as np\n",
    "import pandas as pd\n",
    "import matplotlib.pyplot as plt\n"
   ]
  },
  {
   "cell_type": "code",
   "execution_count": 60,
   "metadata": {},
   "outputs": [
    {
     "name": "stdout",
     "output_type": "stream",
     "text": [
      "              cand_nm           contbr_nm contbr_st        contbr_employer  \\\n",
      "0  Bachmann, Michelle     HARVEY, WILLIAM        AL                RETIRED   \n",
      "1  Bachmann, Michelle     HARVEY, WILLIAM        AL                RETIRED   \n",
      "2  Bachmann, Michelle       SMITH, LANIER        AL  INFORMATION REQUESTED   \n",
      "3  Bachmann, Michelle    BLEVINS, DARONDA        AR                   NONE   \n",
      "4  Bachmann, Michelle  WARDENBURG, HAROLD        AR                   NONE   \n",
      "\n",
      "       contbr_occupation  contb_receipt_amt contb_receipt_dt  \n",
      "0                RETIRED              250.0        20-JUN-11  \n",
      "1                RETIRED               50.0        23-JUN-11  \n",
      "2  INFORMATION REQUESTED              250.0        05-JUL-11  \n",
      "3                RETIRED              250.0        01-AUG-11  \n",
      "4                RETIRED              300.0        20-JUN-11  \n",
      "<class 'pandas.core.frame.DataFrame'>\n",
      "Int64Index: 1001733 entries, 0 to 1730\n",
      "Data columns (total 7 columns):\n",
      " #   Column             Non-Null Count    Dtype  \n",
      "---  ------             --------------    -----  \n",
      " 0   cand_nm            1001733 non-null  object \n",
      " 1   contbr_nm          1001733 non-null  object \n",
      " 2   contbr_st          1001729 non-null  object \n",
      " 3   contbr_employer    988004 non-null   object \n",
      " 4   contbr_occupation  993303 non-null   object \n",
      " 5   contb_receipt_amt  1001733 non-null  float64\n",
      " 6   contb_receipt_dt   1001733 non-null  object \n",
      "dtypes: float64(1), object(6)\n",
      "memory usage: 61.1+ MB\n"
     ]
    }
   ],
   "source": [
    "# 1.数据载入和总览\n",
    "# 1.1 数据载入\n",
    "data_1 = pd.read_csv(\"./data_US/data_01.csv\", sep=\",\")\n",
    "data_2 = pd.read_csv(\"./data_US/data_02.csv\", sep=\",\")\n",
    "data_3 = pd.read_csv(\"./data_US/data_03.csv\", sep=\",\")\n",
    "# 1.2 数据合并\n",
    "data = pd.concat([data_1, data_2, data_3], axis=0, join=\"outer\")\n",
    "print(data.head())\n",
    "# 查看数据信息，包括每个字段的名称，非空数量、字段的数据类型\n",
    "data.info()"
   ]
  },
  {
   "cell_type": "code",
   "execution_count": 30,
   "metadata": {},
   "outputs": [
    {
     "data": {
      "text/html": [
       "<div>\n",
       "<style scoped>\n",
       "    .dataframe tbody tr th:only-of-type {\n",
       "        vertical-align: middle;\n",
       "    }\n",
       "\n",
       "    .dataframe tbody tr th {\n",
       "        vertical-align: top;\n",
       "    }\n",
       "\n",
       "    .dataframe thead th {\n",
       "        text-align: right;\n",
       "    }\n",
       "</style>\n",
       "<table border=\"1\" class=\"dataframe\">\n",
       "  <thead>\n",
       "    <tr style=\"text-align: right;\">\n",
       "      <th></th>\n",
       "      <th>contb_receipt_amt</th>\n",
       "    </tr>\n",
       "  </thead>\n",
       "  <tbody>\n",
       "    <tr>\n",
       "      <th>count</th>\n",
       "      <td>9.914770e+05</td>\n",
       "    </tr>\n",
       "    <tr>\n",
       "      <th>mean</th>\n",
       "      <td>3.121934e+02</td>\n",
       "    </tr>\n",
       "    <tr>\n",
       "      <th>std</th>\n",
       "      <td>3.764479e+03</td>\n",
       "    </tr>\n",
       "    <tr>\n",
       "      <th>min</th>\n",
       "      <td>1.000000e-02</td>\n",
       "    </tr>\n",
       "    <tr>\n",
       "      <th>25%</th>\n",
       "      <td>3.500000e+01</td>\n",
       "    </tr>\n",
       "    <tr>\n",
       "      <th>50%</th>\n",
       "      <td>1.000000e+02</td>\n",
       "    </tr>\n",
       "    <tr>\n",
       "      <th>75%</th>\n",
       "      <td>2.500000e+02</td>\n",
       "    </tr>\n",
       "    <tr>\n",
       "      <th>max</th>\n",
       "      <td>2.014491e+06</td>\n",
       "    </tr>\n",
       "  </tbody>\n",
       "</table>\n",
       "</div>"
      ],
      "text/plain": [
       "       contb_receipt_amt\n",
       "count       9.914770e+05\n",
       "mean        3.121934e+02\n",
       "std         3.764479e+03\n",
       "min         1.000000e-02\n",
       "25%         3.500000e+01\n",
       "50%         1.000000e+02\n",
       "75%         2.500000e+02\n",
       "max         2.014491e+06"
      ]
     },
     "execution_count": 30,
     "metadata": {},
     "output_type": "execute_result"
    }
   ],
   "source": [
    "# 用统计学指标快速描述数据概要\n",
    "data.describe()"
   ]
  },
  {
   "cell_type": "code",
   "execution_count": 31,
   "metadata": {},
   "outputs": [
    {
     "name": "stdout",
     "output_type": "stream",
     "text": [
      "<class 'pandas.core.frame.DataFrame'>\n",
      "Int64Index: 991477 entries, 0 to 1730\n",
      "Data columns (total 8 columns):\n",
      " #   Column             Non-Null Count   Dtype  \n",
      "---  ------             --------------   -----  \n",
      " 0   cand_nm            991477 non-null  object \n",
      " 1   contbr_nm          991477 non-null  object \n",
      " 2   contbr_st          991473 non-null  object \n",
      " 3   contbr_employer    991477 non-null  object \n",
      " 4   contbr_occupation  991477 non-null  object \n",
      " 5   contb_receipt_amt  991477 non-null  float64\n",
      " 6   contb_receipt_dt   991477 non-null  object \n",
      " 7   party              991477 non-null  object \n",
      "dtypes: float64(1), object(7)\n",
      "memory usage: 68.1+ MB\n",
      "共有13位候选人，分别是\n"
     ]
    },
    {
     "data": {
      "text/plain": [
       "array(['Bachmann, Michelle', 'Romney, Mitt', 'Obama, Barack',\n",
       "       \"Roemer, Charles E. 'Buddy' III\", 'Pawlenty, Timothy',\n",
       "       'Johnson, Gary Earl', 'Paul, Ron', 'Santorum, Rick',\n",
       "       'Cain, Herman', 'Gingrich, Newt', 'McCotter, Thaddeus G',\n",
       "       'Huntsman, Jon', 'Perry, Rick'], dtype=object)"
      ]
     },
     "execution_count": 31,
     "metadata": {},
     "output_type": "execute_result"
    }
   ],
   "source": [
    "# 2 数据清洗\n",
    "# 2.1 缺失值处理\n",
    "# 从data.info()得知，contbr_employer.contbr_occupation均有少量的缺失值，均填充为NOT PROVIDED\n",
    "data[\"contbr_employer\"].fillna(\"NOT PROVIDED\",inplace=True)\n",
    "data[\"contbr_occupation\"].fillna(\"NOT PROVIDED\",inplace=True)\n",
    "data.info()\n",
    "# 2.2 数据转换\n",
    "# 2.2.1利用字典映射进行转换：党派分析\n",
    "# 查看数据中总统候选人都有谁？\n",
    "print(\"共有{}位候选人，分别是\".format(len(data[\"cand_nm\"].unique())))\n",
    "data[\"cand_nm\"].unique()\n"
   ]
  },
  {
   "cell_type": "code",
   "execution_count": 32,
   "metadata": {},
   "outputs": [
    {
     "data": {
      "text/plain": [
       "Democrat      589128\n",
       "Republican    402349\n",
       "Name: party, dtype: int64"
      ]
     },
     "execution_count": 32,
     "metadata": {},
     "output_type": "execute_result"
    }
   ],
   "source": [
    "# 通过搜索引擎等途径，获取每个总统候选人的所属党派，建立字典parties。候选人名字为key，所属党派为value\n",
    "parties = {'Bachmann, Michelle': 'Republican',\n",
    "           'Cain, Herman': 'Republican',\n",
    "           'Gingrich, Newt': 'Republican',\n",
    "           'Huntsman, Jon': 'Republican',\n",
    "           'Johnson, Gary Earl': 'Republican',\n",
    "           'McCotter, Thaddeus G': 'Republican',\n",
    "           'Obama, Barack': 'Democrat',\n",
    "           'Paul, Ron': 'Republican',\n",
    "           'Pawlenty, Timothy': 'Republican',\n",
    "           'Perry, Rick': 'Republican',\n",
    "           \"Roemer, Charles E. 'Buddy' III\": 'Republican',\n",
    "           'Romney, Mitt': 'Republican',\n",
    "           'Santorum, Rick': 'Republican'}\n",
    "# 通过map映射函数，增加一列party存储党派信息\n",
    "data[\"party\"] = data[\"cand_nm\"].map(parties)\n",
    "# print(data.columns)\n",
    "# 查看两个党派的情况\n",
    "data[\"party\"].value_counts()"
   ]
  },
  {
   "cell_type": "code",
   "execution_count": 33,
   "metadata": {},
   "outputs": [
    {
     "name": "stdout",
     "output_type": "stream",
     "text": [
      "<pandas.core.groupby.generic.DataFrameGroupBy object at 0x11cae8cd0>\n"
     ]
    },
    {
     "data": {
      "text/plain": [
       "contbr_occupation\n",
       "RETIRED           48866560.87\n",
       "NOT PROVIDED      34696802.16\n",
       "ATTORNEY          22170880.59\n",
       "HOMEMAKER         17883151.58\n",
       "PHYSICIAN          7329445.18\n",
       "PRESIDENT          6599433.71\n",
       "CEO                6286015.31\n",
       "EXECUTIVE          5494011.14\n",
       "CONSULTANT         5004638.16\n",
       "OWNER              3409854.28\n",
       "INVESTOR           3315901.92\n",
       "SELF-EMPLOYED      2987019.04\n",
       "ENGINEER           2769899.25\n",
       "PROFESSOR          2461773.81\n",
       "MANAGER            2207415.59\n",
       "REAL ESTATE        2154804.34\n",
       "SALES              1848351.82\n",
       "CHAIRMAN           1792639.75\n",
       "BUSINESS OWNER     1773321.73\n",
       "NOT EMPLOYED       1754007.93\n",
       "Name: contb_receipt_amt, dtype: float64"
      ]
     },
     "execution_count": 33,
     "metadata": {},
     "output_type": "execute_result"
    }
   ],
   "source": [
    "# 排序：按照职业汇总对赞助总金额进行排序\n",
    "print(data.groupby(\"contbr_occupation\"))\n",
    "data.groupby(\"contbr_occupation\")[\"contb_receipt_amt\"].sum().sort_values(ascending=False)[:20]"
   ]
  },
  {
   "cell_type": "code",
   "execution_count": 34,
   "metadata": {},
   "outputs": [],
   "source": [
    "# 利用函数进行数据转换：职业与雇主信息分析\n",
    "# 建立一个职业对应字典，把相同职业的不同表达映射为对应的职业，比如：C.E.O映射为CEO\n",
    "occupation_map = {\n",
    "  'INFORMATION REQUESTED PER BEST EFFORTS':'NOT PROVIDED',\n",
    "  'INFORMATION REQUESTED':'NOT PROVIDED',\n",
    "  'SELF' : 'SELF-EMPLOYED',\n",
    "  'SELF EMPLOYED' : 'SELF-EMPLOYED',\n",
    "  'C.E.O.':'CEO',\n",
    "  'LAWYER':'ATTORNEY',\n",
    "}\n",
    "# 如果不在字典中，返回x\n",
    "f = lambda x: occupation_map.get(x, x)\n",
    "data.contbr_occupation = data.contbr_occupation.map(f)"
   ]
  },
  {
   "cell_type": "code",
   "execution_count": 35,
   "metadata": {},
   "outputs": [],
   "source": [
    "# 利用同样的方法，对雇主信息进行类似转换\n",
    "emp_mapping = {\n",
    "   'INFORMATION REQUESTED PER BEST EFFORTS' : 'NOT PROVIDED',\n",
    "   'INFORMATION REQUESTED' : 'NOT PROVIDED',\n",
    "   'SELF' : 'SELF-EMPLOYED',\n",
    "   'SELF EMPLOYED' : 'SELF-EMPLOYED',\n",
    "}\n",
    "# if no mapping provided, return x\n",
    "f = lambda x: emp_mapping.get(x, x)\n",
    "data.contbr_employer = data.contbr_employer.map(f)"
   ]
  },
  {
   "cell_type": "code",
   "execution_count": 36,
   "metadata": {},
   "outputs": [
    {
     "data": {
      "text/plain": [
       "cand_nm\n",
       "Obama, Barack                     1.358776e+08\n",
       "Romney, Mitt                      8.833591e+07\n",
       "Paul, Ron                         2.100962e+07\n",
       "Perry, Rick                       2.030675e+07\n",
       "Gingrich, Newt                    1.283277e+07\n",
       "Santorum, Rick                    1.104316e+07\n",
       "Cain, Herman                      7.101082e+06\n",
       "Pawlenty, Timothy                 6.004819e+06\n",
       "Huntsman, Jon                     3.330373e+06\n",
       "Bachmann, Michelle                2.711439e+06\n",
       "Johnson, Gary Earl                5.669616e+05\n",
       "Roemer, Charles E. 'Buddy' III    3.730099e+05\n",
       "McCotter, Thaddeus G              3.903000e+04\n",
       "Name: contb_receipt_amt, dtype: float64"
      ]
     },
     "execution_count": 36,
     "metadata": {},
     "output_type": "execute_result"
    }
   ],
   "source": [
    "# 2.3 数据筛选\n",
    "# 赞助金额筛选:赞助包括（负的出资额），为了简化分析过程，我们限定数据集只有正出资额\n",
    "data = data[data[\"contb_receipt_amt\"]>0]\n",
    "\n",
    "# 候选人筛选（Obama，Romney）\n",
    "# 查看各候选人获得的赞助总金额\n",
    "data.groupby(\"cand_nm\")[\"contb_receipt_amt\"].sum().sort_values(ascending=False)"
   ]
  },
  {
   "cell_type": "code",
   "execution_count": 37,
   "metadata": {},
   "outputs": [
    {
     "name": "stdout",
     "output_type": "stream",
     "text": [
      "          cand_nm           contbr_nm contbr_st  \\\n",
      "411  Romney, Mitt  ELDERBAUM, WILLIAM        AA   \n",
      "412  Romney, Mitt  ELDERBAUM, WILLIAM        AA   \n",
      "413  Romney, Mitt    CARLSEN, RICHARD        AE   \n",
      "414  Romney, Mitt      DELUCA, PIERRE        AE   \n",
      "415  Romney, Mitt    SARGENT, MICHAEL        AE   \n",
      "\n",
      "                      contbr_employer          contbr_occupation  \\\n",
      "411                     US GOVERNMENT    FOREIGN SERVICE OFFICER   \n",
      "412                     US GOVERNMENT    FOREIGN SERVICE OFFICER   \n",
      "413       DEFENSE INTELLIGENCE AGENCY       INTELLIGENCE ANALYST   \n",
      "414                             CISCO                   ENGINEER   \n",
      "415  RAYTHEON TECHNICAL SERVICES CORP  COMPUTER SYSTEMS ENGINEER   \n",
      "\n",
      "     contb_receipt_amt contb_receipt_dt       party  \n",
      "411               25.0        01-FEB-12  Republican  \n",
      "412              110.0        01-FEB-12  Republican  \n",
      "413              250.0        13-APR-12  Republican  \n",
      "414               30.0        21-AUG-11  Republican  \n",
      "415              100.0        07-MAR-12  Republican  \n"
     ]
    }
   ],
   "source": [
    "# 选取候选人为Obama，Romney的子集数据\n",
    "data_vs = data[data[\"cand_nm\"].isin([\"Obama, Barack\",\"Romney, Mitt\"])].copy()\n",
    "print(data_vs.head(5))"
   ]
  },
  {
   "cell_type": "code",
   "execution_count": 46,
   "metadata": {},
   "outputs": [
    {
     "data": {
      "text/plain": [
       "411         (10, 100]\n",
       "412       (100, 1000]\n",
       "413       (100, 1000]\n",
       "414         (10, 100]\n",
       "415         (10, 100]\n",
       "             ...     \n",
       "201381      (10, 100]\n",
       "201382    (100, 1000]\n",
       "201383        (1, 10]\n",
       "201384      (10, 100]\n",
       "201385    (100, 1000]\n",
       "Name: contb_receipt_amt, Length: 694283, dtype: category\n",
       "Categories (8, interval[int64]): [(0, 1] < (1, 10] < (10, 100] < (100, 1000] < (1000, 10000] < (10000, 100000] < (100000, 1000000] < (1000000, 10000000]]"
      ]
     },
     "execution_count": 46,
     "metadata": {},
     "output_type": "execute_result"
    }
   ],
   "source": [
    "# 2.4 面元化数据\n",
    "# 利用cut函数根据出资金额大小将数据离散化到多个面元中：\n",
    "bins = np.array([0,1,10,100,1000,10000,100000,1000000,10000000])\n",
    "labels = pd.cut(data_vs['contb_receipt_amt'],bins)\n",
    "labels"
   ]
  },
  {
   "cell_type": "code",
   "execution_count": 47,
   "metadata": {},
   "outputs": [],
   "source": [
    "# 3.数据聚合与分组运算\n",
    "# 分组运算是一个“split-apply-combine”的过程\n",
    "# split：pandas对象中的数据会根据你所提供的一个或多个键被拆分为多组\n",
    "# apply：将一个函数应用到各分组并产生一个新值\n",
    "# combine：所有这些函数的执行结果会合并到最终的结果对象中"
   ]
  },
  {
   "cell_type": "code",
   "execution_count": 48,
   "metadata": {},
   "outputs": [
    {
     "name": "stdout",
     "output_type": "stream",
     "text": [
      "Index(['cand_nm', 'contbr_nm', 'contbr_st', 'contbr_employer',\n",
      "       'contbr_occupation', 'contb_receipt_amt', 'contb_receipt_dt', 'party'],\n",
      "      dtype='object')\n"
     ]
    },
    {
     "data": {
      "text/plain": [
       "<matplotlib.axes._subplots.AxesSubplot at 0x11e352550>"
      ]
     },
     "execution_count": 48,
     "metadata": {},
     "output_type": "execute_result"
    },
    {
     "data": {
      "image/png": "[encoded data removed]",
      "text/plain": [
       "<Figure size 432x288 with 1 Axes>"
      ]
     },
     "metadata": {
      "needs_background": "light"
     },
     "output_type": "display_data"
    }
   ],
   "source": [
    "# 3.1 透视表pivot_table分析党派和职业\n",
    "# 按照党派，职业对赞助金额进行汇总，类似Excel中的透视表操作，聚合函数为sum\n",
    "print(data.columns)\n",
    "by_occupation = data.pivot_table('contb_receipt_amt',index='contbr_occupation',columns='party',aggfunc='sum')\n",
    "# # 过滤掉赞助金额小于200W的数据\n",
    "over_2mm = by_occupation[by_occupation.sum(1)>2000000]\n",
    "over_2mm\n",
    "over_2mm.plot(kind=\"bar\")"
   ]
  },
  {
   "cell_type": "code",
   "execution_count": 49,
   "metadata": {},
   "outputs": [
    {
     "data": {
      "text/plain": [
       "cand_nm        contbr_occupation\n",
       "Obama, Barack  RETIRED              25305316.38\n",
       "               ATTORNEY             14302461.84\n",
       "               NOT PROVIDED         13725187.32\n",
       "               HOMEMAKER             4248875.80\n",
       "               PHYSICIAN             3735124.94\n",
       "               CONSULTANT            2459912.71\n",
       "               PROFESSOR             2165071.08\n",
       "Romney, Mitt   NOT PROVIDED         11638509.84\n",
       "               RETIRED              11508473.59\n",
       "               HOMEMAKER             8147446.22\n",
       "               ATTORNEY              5372424.02\n",
       "               PRESIDENT             2491244.89\n",
       "               CEO                   2324297.03\n",
       "               EXECUTIVE             2300947.03\n",
       "Name: contb_receipt_amt, dtype: float64"
      ]
     },
     "execution_count": 49,
     "metadata": {},
     "output_type": "execute_result"
    }
   ],
   "source": [
    "# 3.2分组级运算和转换\n",
    "# 根据职业与雇主信息分组运算：先了解一下Obama和Romney总出资最高的职业与雇主\n",
    "# 注意：这里巧妙利用了dict.get，它允许没有映射关系的职业也能”通过“\n",
    "# 由于职业和雇主的处理非常相似，我们定义函数来对两个字段进行分析处理\n",
    "\n",
    "def get_top_amounts(group,key,n=5):\n",
    "    '''传入groupby分组后的对象，返回按照key字段汇总的排序前n的数据'''\n",
    "    totals = group.groupby(key)[\"contb_receipt_amt\"].sum()\n",
    "    return totals.sort_values(ascending=False)[:n]\n",
    "\n",
    "grouped = data_vs.groupby(\"cand_nm\")\n",
    "grouped.apply(get_top_amounts,'contbr_occupation',n=7)\n"
   ]
  },
  {
   "cell_type": "code",
   "execution_count": 50,
   "metadata": {},
   "outputs": [
    {
     "data": {
      "text/plain": [
       "cand_nm        contbr_employer   \n",
       "Obama, Barack  RETIRED               22694558.85\n",
       "               SELF-EMPLOYED         18626807.16\n",
       "               NOT PROVIDED          13883494.03\n",
       "               NOT EMPLOYED           8586308.70\n",
       "               HOMEMAKER              2605408.54\n",
       "               STUDENT                 318831.45\n",
       "               VOLUNTEER               257104.00\n",
       "               MICROSOFT               215585.36\n",
       "               SIDLEY AUSTIN LLP       168254.00\n",
       "               REFUSED                 149516.07\n",
       "Romney, Mitt   NOT PROVIDED          12321731.24\n",
       "               RETIRED               11506225.71\n",
       "               HOMEMAKER              8147196.22\n",
       "               SELF-EMPLOYED          7414115.22\n",
       "               STUDENT                 496490.94\n",
       "               CREDIT SUISSE           281150.00\n",
       "               MORGAN STANLEY          267266.00\n",
       "               GOLDMAN SACH & CO.      238250.00\n",
       "               BARCLAYS CAPITAL        162750.00\n",
       "               H.I.G. CAPITAL          139500.00\n",
       "Name: contb_receipt_amt, dtype: float64"
      ]
     },
     "execution_count": 50,
     "metadata": {},
     "output_type": "execute_result"
    }
   ],
   "source": [
    "#同样的，使用get_top_amounts()对雇主进行分析处理\n",
    "grouped.apply(get_top_amounts,'contbr_employer',n=10)"
   ]
  },
  {
   "cell_type": "code",
   "execution_count": 51,
   "metadata": {},
   "outputs": [
    {
     "data": {
      "text/html": [
       "<div>\n",
       "<style scoped>\n",
       "    .dataframe tbody tr th:only-of-type {\n",
       "        vertical-align: middle;\n",
       "    }\n",
       "\n",
       "    .dataframe tbody tr th {\n",
       "        vertical-align: top;\n",
       "    }\n",
       "\n",
       "    .dataframe thead th {\n",
       "        text-align: right;\n",
       "    }\n",
       "</style>\n",
       "<table border=\"1\" class=\"dataframe\">\n",
       "  <thead>\n",
       "    <tr style=\"text-align: right;\">\n",
       "      <th>cand_nm</th>\n",
       "      <th>Obama, Barack</th>\n",
       "      <th>Romney, Mitt</th>\n",
       "    </tr>\n",
       "    <tr>\n",
       "      <th>contb_receipt_amt</th>\n",
       "      <th></th>\n",
       "      <th></th>\n",
       "    </tr>\n",
       "  </thead>\n",
       "  <tbody>\n",
       "    <tr>\n",
       "      <th>(0, 1]</th>\n",
       "      <td>493</td>\n",
       "      <td>77</td>\n",
       "    </tr>\n",
       "    <tr>\n",
       "      <th>(1, 10]</th>\n",
       "      <td>40070</td>\n",
       "      <td>3681</td>\n",
       "    </tr>\n",
       "    <tr>\n",
       "      <th>(10, 100]</th>\n",
       "      <td>372280</td>\n",
       "      <td>31853</td>\n",
       "    </tr>\n",
       "    <tr>\n",
       "      <th>(100, 1000]</th>\n",
       "      <td>153992</td>\n",
       "      <td>43357</td>\n",
       "    </tr>\n",
       "    <tr>\n",
       "      <th>(1000, 10000]</th>\n",
       "      <td>22284</td>\n",
       "      <td>26186</td>\n",
       "    </tr>\n",
       "    <tr>\n",
       "      <th>(10000, 100000]</th>\n",
       "      <td>2</td>\n",
       "      <td>1</td>\n",
       "    </tr>\n",
       "    <tr>\n",
       "      <th>(100000, 1000000]</th>\n",
       "      <td>3</td>\n",
       "      <td>0</td>\n",
       "    </tr>\n",
       "    <tr>\n",
       "      <th>(1000000, 10000000]</th>\n",
       "      <td>4</td>\n",
       "      <td>0</td>\n",
       "    </tr>\n",
       "  </tbody>\n",
       "</table>\n",
       "</div>"
      ],
      "text/plain": [
       "cand_nm              Obama, Barack  Romney, Mitt\n",
       "contb_receipt_amt                               \n",
       "(0, 1]                         493            77\n",
       "(1, 10]                      40070          3681\n",
       "(10, 100]                   372280         31853\n",
       "(100, 1000]                 153992         43357\n",
       "(1000, 10000]                22284         26186\n",
       "(10000, 100000]                  2             1\n",
       "(100000, 1000000]                3             0\n",
       "(1000000, 10000000]              4             0"
      ]
     },
     "execution_count": 51,
     "metadata": {},
     "output_type": "execute_result"
    }
   ],
   "source": [
    "# 对赞助金额进行分组分析（matplotlib绘图）\n",
    "# 前面我们已经利用pd.cut()函数，根据出资额大小将数据离散化到多个面元中，接下来我们就要对每个离散化的面元进行分组分析\n",
    "\n",
    "# 首先统计各出资区间的赞助笔数，这里用到unstack()，stack()函数是堆叠，unstack()函数就是不要堆叠，即把多层索引变为表格数据\n",
    "#labels是之前赞助金额离散化后的Series\n",
    "grouped_bins = data_vs.groupby(['cand_nm',labels])\n",
    "grouped_bins.size().unstack(0)"
   ]
  },
  {
   "cell_type": "code",
   "execution_count": 52,
   "metadata": {},
   "outputs": [
    {
     "data": {
      "text/html": [
       "<div>\n",
       "<style scoped>\n",
       "    .dataframe tbody tr th:only-of-type {\n",
       "        vertical-align: middle;\n",
       "    }\n",
       "\n",
       "    .dataframe tbody tr th {\n",
       "        vertical-align: top;\n",
       "    }\n",
       "\n",
       "    .dataframe thead th {\n",
       "        text-align: right;\n",
       "    }\n",
       "</style>\n",
       "<table border=\"1\" class=\"dataframe\">\n",
       "  <thead>\n",
       "    <tr style=\"text-align: right;\">\n",
       "      <th>cand_nm</th>\n",
       "      <th>Obama, Barack</th>\n",
       "      <th>Romney, Mitt</th>\n",
       "    </tr>\n",
       "    <tr>\n",
       "      <th>contb_receipt_amt</th>\n",
       "      <th></th>\n",
       "      <th></th>\n",
       "    </tr>\n",
       "  </thead>\n",
       "  <tbody>\n",
       "    <tr>\n",
       "      <th>(0, 1]</th>\n",
       "      <td>318.24</td>\n",
       "      <td>77.00</td>\n",
       "    </tr>\n",
       "    <tr>\n",
       "      <th>(1, 10]</th>\n",
       "      <td>337267.62</td>\n",
       "      <td>29819.66</td>\n",
       "    </tr>\n",
       "    <tr>\n",
       "      <th>(10, 100]</th>\n",
       "      <td>20288981.41</td>\n",
       "      <td>1987783.76</td>\n",
       "    </tr>\n",
       "    <tr>\n",
       "      <th>(100, 1000]</th>\n",
       "      <td>54798731.46</td>\n",
       "      <td>22363381.69</td>\n",
       "    </tr>\n",
       "    <tr>\n",
       "      <th>(1000, 10000]</th>\n",
       "      <td>51753705.67</td>\n",
       "      <td>63942145.42</td>\n",
       "    </tr>\n",
       "    <tr>\n",
       "      <th>(10000, 100000]</th>\n",
       "      <td>59100.00</td>\n",
       "      <td>12700.00</td>\n",
       "    </tr>\n",
       "    <tr>\n",
       "      <th>(100000, 1000000]</th>\n",
       "      <td>1490683.08</td>\n",
       "      <td>NaN</td>\n",
       "    </tr>\n",
       "    <tr>\n",
       "      <th>(1000000, 10000000]</th>\n",
       "      <td>7148839.76</td>\n",
       "      <td>NaN</td>\n",
       "    </tr>\n",
       "  </tbody>\n",
       "</table>\n",
       "</div>"
      ],
      "text/plain": [
       "cand_nm              Obama, Barack  Romney, Mitt\n",
       "contb_receipt_amt                               \n",
       "(0, 1]                      318.24         77.00\n",
       "(1, 10]                  337267.62      29819.66\n",
       "(10, 100]              20288981.41    1987783.76\n",
       "(100, 1000]            54798731.46   22363381.69\n",
       "(1000, 10000]          51753705.67   63942145.42\n",
       "(10000, 100000]           59100.00      12700.00\n",
       "(100000, 1000000]       1490683.08           NaN\n",
       "(1000000, 10000000]     7148839.76           NaN"
      ]
     },
     "execution_count": 52,
     "metadata": {},
     "output_type": "execute_result"
    }
   ],
   "source": [
    "# 接下来：再我们再统计各区间的赞助金额\n",
    "\n",
    "bucket_sums=grouped_bins['contb_receipt_amt'].sum().unstack(0)\n",
    "bucket_sums"
   ]
  },
  {
   "cell_type": "code",
   "execution_count": 53,
   "metadata": {},
   "outputs": [
    {
     "data": {
      "text/plain": [
       "<matplotlib.axes._subplots.AxesSubplot at 0x11edbfe50>"
      ]
     },
     "execution_count": 53,
     "metadata": {},
     "output_type": "execute_result"
    },
    {
     "data": {
      "image/png": "[encoded data removed]",
      "text/plain": [
       "<Figure size 432x288 with 1 Axes>"
      ]
     },
     "metadata": {
      "needs_background": "light"
     },
     "output_type": "display_data"
    }
   ],
   "source": [
    "#Obama、Romney各区间赞助总金额\n",
    "bucket_sums.plot(kind='bar')"
   ]
  },
  {
   "cell_type": "code",
   "execution_count": 54,
   "metadata": {},
   "outputs": [
    {
     "data": {
      "text/html": [
       "<div>\n",
       "<style scoped>\n",
       "    .dataframe tbody tr th:only-of-type {\n",
       "        vertical-align: middle;\n",
       "    }\n",
       "\n",
       "    .dataframe tbody tr th {\n",
       "        vertical-align: top;\n",
       "    }\n",
       "\n",
       "    .dataframe thead th {\n",
       "        text-align: right;\n",
       "    }\n",
       "</style>\n",
       "<table border=\"1\" class=\"dataframe\">\n",
       "  <thead>\n",
       "    <tr style=\"text-align: right;\">\n",
       "      <th>cand_nm</th>\n",
       "      <th>Obama, Barack</th>\n",
       "      <th>Romney, Mitt</th>\n",
       "    </tr>\n",
       "    <tr>\n",
       "      <th>contb_receipt_amt</th>\n",
       "      <th></th>\n",
       "      <th></th>\n",
       "    </tr>\n",
       "  </thead>\n",
       "  <tbody>\n",
       "    <tr>\n",
       "      <th>(0, 1]</th>\n",
       "      <td>0.805182</td>\n",
       "      <td>0.194818</td>\n",
       "    </tr>\n",
       "    <tr>\n",
       "      <th>(1, 10]</th>\n",
       "      <td>0.918767</td>\n",
       "      <td>0.081233</td>\n",
       "    </tr>\n",
       "    <tr>\n",
       "      <th>(10, 100]</th>\n",
       "      <td>0.910769</td>\n",
       "      <td>0.089231</td>\n",
       "    </tr>\n",
       "    <tr>\n",
       "      <th>(100, 1000]</th>\n",
       "      <td>0.710177</td>\n",
       "      <td>0.289823</td>\n",
       "    </tr>\n",
       "    <tr>\n",
       "      <th>(1000, 10000]</th>\n",
       "      <td>0.447326</td>\n",
       "      <td>0.552674</td>\n",
       "    </tr>\n",
       "    <tr>\n",
       "      <th>(10000, 100000]</th>\n",
       "      <td>0.823120</td>\n",
       "      <td>0.176880</td>\n",
       "    </tr>\n",
       "    <tr>\n",
       "      <th>(100000, 1000000]</th>\n",
       "      <td>1.000000</td>\n",
       "      <td>NaN</td>\n",
       "    </tr>\n",
       "    <tr>\n",
       "      <th>(1000000, 10000000]</th>\n",
       "      <td>1.000000</td>\n",
       "      <td>NaN</td>\n",
       "    </tr>\n",
       "  </tbody>\n",
       "</table>\n",
       "</div>"
      ],
      "text/plain": [
       "cand_nm              Obama, Barack  Romney, Mitt\n",
       "contb_receipt_amt                               \n",
       "(0, 1]                    0.805182      0.194818\n",
       "(1, 10]                   0.918767      0.081233\n",
       "(10, 100]                 0.910769      0.089231\n",
       "(100, 1000]               0.710177      0.289823\n",
       "(1000, 10000]             0.447326      0.552674\n",
       "(10000, 100000]           0.823120      0.176880\n",
       "(100000, 1000000]         1.000000           NaN\n",
       "(1000000, 10000000]       1.000000           NaN"
      ]
     },
     "execution_count": 54,
     "metadata": {},
     "output_type": "execute_result"
    }
   ],
   "source": [
    "'''上图虽然能够大概看出Obama、Romney的赞助金额区间分布，但对比并不够突出，如果用百分比堆积图效果会更好，下面我们就实现以下'''\n",
    "#算出每个区间两位候选人收到赞助总金额的占比\n",
    "normed_sums = bucket_sums.div(bucket_sums.sum(axis=1),axis=0)\n",
    "normed_sums\n"
   ]
  },
  {
   "cell_type": "code",
   "execution_count": 55,
   "metadata": {},
   "outputs": [
    {
     "data": {
      "text/plain": [
       "'可以看出，小额赞助方面，Obama获得的数量和金额比Romney多得多'"
      ]
     },
     "execution_count": 55,
     "metadata": {},
     "output_type": "execute_result"
    },
    {
     "data": {
      "image/png": "[encoded data removed]",
      "text/plain": [
       "<Figure size 432x288 with 1 Axes>"
      ]
     },
     "metadata": {
      "needs_background": "light"
     },
     "output_type": "display_data"
    }
   ],
   "source": [
    "#使用柱状图，指定stacked=True进行堆叠，即可完成百分比堆积图\n",
    "normed_sums[:-2].plot(kind='bar',stacked=True)\n",
    "'''可以看出，小额赞助方面，Obama获得的数量和金额比Romney多得多'''"
   ]
  },
  {
   "cell_type": "code",
   "execution_count": 56,
   "metadata": {},
   "outputs": [
    {
     "data": {
      "text/plain": [
       "contbr_nm\n",
       "WILLIAMS, DEBBY          205\n",
       "BERKE, DAVID MICHAEL     171\n",
       "SEBAG, DAVID             161\n",
       "SMITH, ERIK              145\n",
       "FALLSGRAFF, TOBY         138\n",
       "SKINNER, DONNA           136\n",
       "CASPERSON, CAROLINA      132\n",
       "HARRIS, CLAUDIA W.       132\n",
       "ROSBERG, MARILYN         115\n",
       "POTTS, LILLIE            114\n",
       "DUDLEY, DEBBIE           111\n",
       "HAUGHEY, NOEL ANTHONY    107\n",
       "DFHDFH, DFHDFH            96\n",
       "SHERWIN, GLEN R.          94\n",
       "MITCHELL, CAITLIN         90\n",
       "SMITH, CHARLES            88\n",
       "KARIMIAN, AFSANEH         87\n",
       "NURU, ISAAC               87\n",
       "MASTERS, MARGERY          85\n",
       "BIRMINGHAM, TOM           85\n",
       "Name: contbr_nm, dtype: int64"
      ]
     },
     "execution_count": 56,
     "metadata": {},
     "output_type": "execute_result"
    }
   ],
   "source": [
    "# 按照赞助人姓名分组计数，计算重复赞助次数最多的前20人\n",
    "data.groupby('contbr_nm')['contbr_nm'].count().sort_values(ascending=False)[:20]"
   ]
  },
  {
   "cell_type": "code",
   "execution_count": 57,
   "metadata": {},
   "outputs": [],
   "source": [
    "# 4.时间处理\n",
    "# 4.1 str转datatime\n",
    "'''我们可以使用to_datetime方法解析多种不同的日期表示形式。对标准日期格式（如ISO8601）的解析非常快。\n",
    "我们也可以指定特定的日期解析格式，如pd.to_datetime(series,format='%Y%m%d')'''\n",
    "\n",
    "data_vs['time'] = pd.to_datetime(data_vs['contb_receipt_dt'])"
   ]
  },
  {
   "cell_type": "code",
   "execution_count": 58,
   "metadata": {},
   "outputs": [
    {
     "data": {
      "text/html": [
       "<div>\n",
       "<style scoped>\n",
       "    .dataframe tbody tr th:only-of-type {\n",
       "        vertical-align: middle;\n",
       "    }\n",
       "\n",
       "    .dataframe tbody tr th {\n",
       "        vertical-align: top;\n",
       "    }\n",
       "\n",
       "    .dataframe thead th {\n",
       "        text-align: right;\n",
       "    }\n",
       "</style>\n",
       "<table border=\"1\" class=\"dataframe\">\n",
       "  <thead>\n",
       "    <tr style=\"text-align: right;\">\n",
       "      <th></th>\n",
       "      <th>cand_nm</th>\n",
       "      <th>contbr_nm</th>\n",
       "      <th>contbr_st</th>\n",
       "      <th>contbr_employer</th>\n",
       "      <th>contbr_occupation</th>\n",
       "      <th>contb_receipt_amt</th>\n",
       "      <th>contb_receipt_dt</th>\n",
       "      <th>party</th>\n",
       "    </tr>\n",
       "    <tr>\n",
       "      <th>time</th>\n",
       "      <th></th>\n",
       "      <th></th>\n",
       "      <th></th>\n",
       "      <th></th>\n",
       "      <th></th>\n",
       "      <th></th>\n",
       "      <th></th>\n",
       "      <th></th>\n",
       "    </tr>\n",
       "  </thead>\n",
       "  <tbody>\n",
       "    <tr>\n",
       "      <th>2012-02-01</th>\n",
       "      <td>Romney, Mitt</td>\n",
       "      <td>ELDERBAUM, WILLIAM</td>\n",
       "      <td>AA</td>\n",
       "      <td>US GOVERNMENT</td>\n",
       "      <td>FOREIGN SERVICE OFFICER</td>\n",
       "      <td>25.0</td>\n",
       "      <td>01-FEB-12</td>\n",
       "      <td>Republican</td>\n",
       "    </tr>\n",
       "    <tr>\n",
       "      <th>2012-02-01</th>\n",
       "      <td>Romney, Mitt</td>\n",
       "      <td>ELDERBAUM, WILLIAM</td>\n",
       "      <td>AA</td>\n",
       "      <td>US GOVERNMENT</td>\n",
       "      <td>FOREIGN SERVICE OFFICER</td>\n",
       "      <td>110.0</td>\n",
       "      <td>01-FEB-12</td>\n",
       "      <td>Republican</td>\n",
       "    </tr>\n",
       "    <tr>\n",
       "      <th>2012-04-13</th>\n",
       "      <td>Romney, Mitt</td>\n",
       "      <td>CARLSEN, RICHARD</td>\n",
       "      <td>AE</td>\n",
       "      <td>DEFENSE INTELLIGENCE AGENCY</td>\n",
       "      <td>INTELLIGENCE ANALYST</td>\n",
       "      <td>250.0</td>\n",
       "      <td>13-APR-12</td>\n",
       "      <td>Republican</td>\n",
       "    </tr>\n",
       "    <tr>\n",
       "      <th>2011-08-21</th>\n",
       "      <td>Romney, Mitt</td>\n",
       "      <td>DELUCA, PIERRE</td>\n",
       "      <td>AE</td>\n",
       "      <td>CISCO</td>\n",
       "      <td>ENGINEER</td>\n",
       "      <td>30.0</td>\n",
       "      <td>21-AUG-11</td>\n",
       "      <td>Republican</td>\n",
       "    </tr>\n",
       "    <tr>\n",
       "      <th>2012-03-07</th>\n",
       "      <td>Romney, Mitt</td>\n",
       "      <td>SARGENT, MICHAEL</td>\n",
       "      <td>AE</td>\n",
       "      <td>RAYTHEON TECHNICAL SERVICES CORP</td>\n",
       "      <td>COMPUTER SYSTEMS ENGINEER</td>\n",
       "      <td>100.0</td>\n",
       "      <td>07-MAR-12</td>\n",
       "      <td>Republican</td>\n",
       "    </tr>\n",
       "  </tbody>\n",
       "</table>\n",
       "</div>"
      ],
      "text/plain": [
       "                 cand_nm           contbr_nm contbr_st  \\\n",
       "time                                                     \n",
       "2012-02-01  Romney, Mitt  ELDERBAUM, WILLIAM        AA   \n",
       "2012-02-01  Romney, Mitt  ELDERBAUM, WILLIAM        AA   \n",
       "2012-04-13  Romney, Mitt    CARLSEN, RICHARD        AE   \n",
       "2011-08-21  Romney, Mitt      DELUCA, PIERRE        AE   \n",
       "2012-03-07  Romney, Mitt    SARGENT, MICHAEL        AE   \n",
       "\n",
       "                             contbr_employer          contbr_occupation  \\\n",
       "time                                                                      \n",
       "2012-02-01                     US GOVERNMENT    FOREIGN SERVICE OFFICER   \n",
       "2012-02-01                     US GOVERNMENT    FOREIGN SERVICE OFFICER   \n",
       "2012-04-13       DEFENSE INTELLIGENCE AGENCY       INTELLIGENCE ANALYST   \n",
       "2011-08-21                             CISCO                   ENGINEER   \n",
       "2012-03-07  RAYTHEON TECHNICAL SERVICES CORP  COMPUTER SYSTEMS ENGINEER   \n",
       "\n",
       "            contb_receipt_amt contb_receipt_dt       party  \n",
       "time                                                        \n",
       "2012-02-01               25.0        01-FEB-12  Republican  \n",
       "2012-02-01              110.0        01-FEB-12  Republican  \n",
       "2012-04-13              250.0        13-APR-12  Republican  \n",
       "2011-08-21               30.0        21-AUG-11  Republican  \n",
       "2012-03-07              100.0        07-MAR-12  Republican  "
      ]
     },
     "execution_count": 58,
     "metadata": {},
     "output_type": "execute_result"
    }
   ],
   "source": [
    "# 4.2 以时间做索引\n",
    "data_vs.set_index('time',inplace=True)\n",
    "data_vs.head()"
   ]
  },
  {
   "cell_type": "code",
   "execution_count": 59,
   "metadata": {},
   "outputs": [
    {
     "data": {
      "text/html": [
       "<div>\n",
       "<style scoped>\n",
       "    .dataframe tbody tr th:only-of-type {\n",
       "        vertical-align: middle;\n",
       "    }\n",
       "\n",
       "    .dataframe tbody tr th {\n",
       "        vertical-align: top;\n",
       "    }\n",
       "\n",
       "    .dataframe thead th {\n",
       "        text-align: right;\n",
       "    }\n",
       "</style>\n",
       "<table border=\"1\" class=\"dataframe\">\n",
       "  <thead>\n",
       "    <tr style=\"text-align: right;\">\n",
       "      <th>cand_nm</th>\n",
       "      <th>Obama, Barack</th>\n",
       "      <th>Romney, Mitt</th>\n",
       "    </tr>\n",
       "    <tr>\n",
       "      <th>time</th>\n",
       "      <th></th>\n",
       "      <th></th>\n",
       "    </tr>\n",
       "  </thead>\n",
       "  <tbody>\n",
       "    <tr>\n",
       "      <th>2011-04-30</th>\n",
       "      <td>13830</td>\n",
       "      <td>1096</td>\n",
       "    </tr>\n",
       "    <tr>\n",
       "      <th>2011-05-31</th>\n",
       "      <td>12182</td>\n",
       "      <td>4163</td>\n",
       "    </tr>\n",
       "    <tr>\n",
       "      <th>2011-06-30</th>\n",
       "      <td>25626</td>\n",
       "      <td>5757</td>\n",
       "    </tr>\n",
       "    <tr>\n",
       "      <th>2011-07-31</th>\n",
       "      <td>12372</td>\n",
       "      <td>2454</td>\n",
       "    </tr>\n",
       "    <tr>\n",
       "      <th>2011-08-31</th>\n",
       "      <td>19860</td>\n",
       "      <td>3226</td>\n",
       "    </tr>\n",
       "    <tr>\n",
       "      <th>2011-09-30</th>\n",
       "      <td>46927</td>\n",
       "      <td>7968</td>\n",
       "    </tr>\n",
       "    <tr>\n",
       "      <th>2011-10-31</th>\n",
       "      <td>25941</td>\n",
       "      <td>5349</td>\n",
       "    </tr>\n",
       "    <tr>\n",
       "      <th>2011-11-30</th>\n",
       "      <td>32629</td>\n",
       "      <td>7737</td>\n",
       "    </tr>\n",
       "    <tr>\n",
       "      <th>2011-12-31</th>\n",
       "      <td>63562</td>\n",
       "      <td>10289</td>\n",
       "    </tr>\n",
       "    <tr>\n",
       "      <th>2012-01-31</th>\n",
       "      <td>40055</td>\n",
       "      <td>9431</td>\n",
       "    </tr>\n",
       "    <tr>\n",
       "      <th>2012-02-29</th>\n",
       "      <td>66416</td>\n",
       "      <td>13396</td>\n",
       "    </tr>\n",
       "    <tr>\n",
       "      <th>2012-03-31</th>\n",
       "      <td>123564</td>\n",
       "      <td>17807</td>\n",
       "    </tr>\n",
       "    <tr>\n",
       "      <th>2012-04-30</th>\n",
       "      <td>106164</td>\n",
       "      <td>16482</td>\n",
       "    </tr>\n",
       "  </tbody>\n",
       "</table>\n",
       "</div>"
      ],
      "text/plain": [
       "cand_nm     Obama, Barack  Romney, Mitt\n",
       "time                                   \n",
       "2011-04-30          13830          1096\n",
       "2011-05-31          12182          4163\n",
       "2011-06-30          25626          5757\n",
       "2011-07-31          12372          2454\n",
       "2011-08-31          19860          3226\n",
       "2011-09-30          46927          7968\n",
       "2011-10-31          25941          5349\n",
       "2011-11-30          32629          7737\n",
       "2011-12-31          63562         10289\n",
       "2012-01-31          40055          9431\n",
       "2012-02-29          66416         13396\n",
       "2012-03-31         123564         17807\n",
       "2012-04-30         106164         16482"
      ]
     },
     "execution_count": 59,
     "metadata": {},
     "output_type": "execute_result"
    }
   ],
   "source": [
    "# 4.3 重采样和频度转换\n",
    "'''重采样（Resampling）指的是把时间序列的频度变为另一个频度的过程。把高频度的数据变为低频度叫做降采样（downsampling），\n",
    "resample会对数据进行分组，然后再调用聚合函数。这里我们把频率从每日转换为每月，属于高频转低频的降采样'''\n",
    "vs_time = data_vs.groupby('cand_nm').resample('M')['cand_nm'].count()\n",
    "vs_time.unstack(0)\n",
    "# vs_time\n"
   ]
  },
  {
   "cell_type": "code",
   "execution_count": 69,
   "metadata": {},
   "outputs": [
    {
     "data": {
      "image/png": "[encoded data removed]",
      "text/plain": [
       "<Figure size 2304x576 with 1 Axes>"
      ]
     },
     "metadata": {
      "needs_background": "light"
     },
     "output_type": "display_data"
    }
   ],
   "source": [
    "'''我们用面积图把11年4月-12年4月两位总统候选人接受的赞助笔数做个对比可以看出，\n",
    "越临近竞选，大家赞助的热情越高涨，奥巴马在各个时段都占据绝对的优势'''\n",
    "\n",
    "fig1, ax1=plt.subplots(figsize=(32,8))\n",
    "vs_time.unstack(0).plot(kind='area',ax=ax1,alpha=0.6)\n",
    "plt.show()"
   ]
  }
 ],
 "metadata": {
  "kernelspec": {
   "display_name": "Python 3",
   "language": "python",
   "name": "python3"
  },
  "language_info": {
   "codemirror_mode": {
    "name": "ipython",
    "version": 3
   },
   "file_extension": ".py",
   "mimetype": "text/x-python",
   "name": "python",
   "nbconvert_exporter": "python",
   "pygments_lexer": "ipython3",
   "version": "3.7.6"
  }
 },
 "nbformat": 4,
 "nbformat_minor": 4
}
